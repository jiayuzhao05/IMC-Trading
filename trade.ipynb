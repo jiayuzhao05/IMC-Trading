{
 "cells": [
  {
   "cell_type": "code",
   "execution_count": 1,
   "metadata": {},
   "outputs": [],
   "source": [
    "import math\n",
    "import numpy as np\n",
    "import scipy\n",
    "import collections\n",
    "import pandas as pd\n",
    "import matplotlib.pyplot as plt\n",
    "import seaborn as sns\n",
    "import glob"
   ]
  },
  {
   "cell_type": "code",
   "execution_count": 13,
   "metadata": {},
   "outputs": [
    {
     "name": "stdout",
     "output_type": "stream",
     "text": [
      "🔹 PRICES DATA:\n",
      "   day  timestamp           product  bid_price_1  bid_volume_1  bid_price_2  \\\n",
      "0    0          0  RAINFOREST_RESIN         9998             1       9995.0   \n",
      "1    0          0              KELP         2028            30          NaN   \n",
      "2    0          0         SQUID_INK         1968            30          NaN   \n",
      "3    0        100         SQUID_INK         1969             4       1967.0   \n",
      "4    0        100              KELP         2030             4       2028.0   \n",
      "\n",
      "   bid_volume_2  bid_price_3  bid_volume_3  ask_price_1  ask_volume_1  \\\n",
      "0          30.0          NaN           NaN        10005            30   \n",
      "1           NaN          NaN           NaN         2032            30   \n",
      "2           NaN          NaN           NaN         1971            30   \n",
      "3          31.0          NaN           NaN         1971            31   \n",
      "4          31.0          NaN           NaN         2032            31   \n",
      "\n",
      "   ask_price_2  ask_volume_2  ask_price_3  ask_volume_3  mid_price  \\\n",
      "0          NaN           NaN          NaN           NaN    10001.5   \n",
      "1          NaN           NaN          NaN           NaN     2030.0   \n",
      "2          NaN           NaN          NaN           NaN     1969.5   \n",
      "3          NaN           NaN          NaN           NaN     1970.0   \n",
      "4          NaN           NaN          NaN           NaN     2031.0   \n",
      "\n",
      "  profit_and_loss,  \n",
      "0             0.0,  \n",
      "1             0.0,  \n",
      "2             0.0,  \n",
      "3             0.0,  \n",
      "4             0.0,  \n",
      "   day  timestamp           product  bid_price_1  bid_volume_1  bid_price_2  \\\n",
      "0   -1          0         SQUID_INK         2005             1       2002.0   \n",
      "1   -1          0  RAINFOREST_RESIN        10002             1       9996.0   \n",
      "2   -1          0              KELP         2028             1       2026.0   \n",
      "3   -1        100              KELP         2025            24          NaN   \n",
      "4   -1        100  RAINFOREST_RESIN         9996             2       9995.0   \n",
      "\n",
      "   bid_volume_2  bid_price_3  bid_volume_3  ask_price_1  ask_volume_1  \\\n",
      "0          31.0          NaN           NaN         2006            31   \n",
      "1           2.0       9995.0          29.0        10004             2   \n",
      "2           2.0       2025.0          29.0         2029            31   \n",
      "3           NaN          NaN           NaN         2028             2   \n",
      "4          22.0          NaN           NaN        10004             2   \n",
      "\n",
      "   ask_price_2  ask_volume_2  ask_price_3  ask_volume_3  mid_price  \\\n",
      "0          NaN           NaN          NaN           NaN     2005.5   \n",
      "1      10005.0          29.0          NaN           NaN    10003.0   \n",
      "2          NaN           NaN          NaN           NaN     2028.5   \n",
      "3       2029.0          22.0          NaN           NaN     2026.5   \n",
      "4      10005.0          22.0          NaN           NaN    10000.0   \n",
      "\n",
      "   profit_and_loss  \n",
      "0              0.0  \n",
      "1              0.0  \n",
      "2              0.0  \n",
      "3              0.0  \n",
      "4              0.0  \n",
      "   day  timestamp           product  bid_price_1  bid_volume_1  bid_price_2  \\\n",
      "0   -2          0  RAINFOREST_RESIN         9996             1       9995.0   \n",
      "1   -2          0              KELP         1998            26          NaN   \n",
      "2   -2          0         SQUID_INK         1998            26          NaN   \n",
      "3   -2        100         SQUID_INK         1999             5       1998.0   \n",
      "4   -2        100  RAINFOREST_RESIN        10000             5       9995.0   \n",
      "\n",
      "   bid_volume_2  bid_price_3  bid_volume_3  ask_price_1  ask_volume_1  \\\n",
      "0          25.0          NaN           NaN        10004             1   \n",
      "1           NaN          NaN           NaN         2002            26   \n",
      "2           NaN          NaN           NaN         2002            26   \n",
      "3          26.0          NaN           NaN         2001            20   \n",
      "4          20.0          NaN           NaN        10005            20   \n",
      "\n",
      "   ask_price_2  ask_volume_2  ask_price_3  ask_volume_3  mid_price  \\\n",
      "0      10005.0          25.0          NaN           NaN    10000.0   \n",
      "1          NaN           NaN          NaN           NaN     2000.0   \n",
      "2          NaN           NaN          NaN           NaN     2000.0   \n",
      "3          NaN           NaN          NaN           NaN     2000.0   \n",
      "4          NaN           NaN          NaN           NaN    10002.5   \n",
      "\n",
      "   profit_and_loss  \n",
      "0              0.0  \n",
      "1              0.0  \n",
      "2              0.0  \n",
      "3              0.0  \n",
      "4              0.0  \n",
      "\n",
      "🔹 TRADES DATA:\n",
      "   timestamp  buyer  seller            symbol   currency    price  quantity\n",
      "0        100    NaN     NaN  RAINFOREST_RESIN  SEASHELLS  10002.0         1\n",
      "1        300    NaN     NaN              KELP  SEASHELLS   2029.0         6\n",
      "2        300    NaN     NaN  RAINFOREST_RESIN  SEASHELLS   9998.0         2\n",
      "3        300    NaN     NaN  RAINFOREST_RESIN  SEASHELLS   9998.0         1\n",
      "4        300    NaN     NaN         SQUID_INK  SEASHELLS   1965.0         6\n",
      "   timestamp  buyer  seller            symbol   currency    price  quantity\n",
      "0          0    NaN     NaN              KELP  SEASHELLS   2029.0        13\n",
      "1          0    NaN     NaN              KELP  SEASHELLS   2029.0         1\n",
      "2          0    NaN     NaN  RAINFOREST_RESIN  SEASHELLS  10004.0         1\n",
      "3          0    NaN     NaN         SQUID_INK  SEASHELLS   2006.0        13\n",
      "4          0    NaN     NaN         SQUID_INK  SEASHELLS   2006.0         1\n",
      "   timestamp  buyer  seller            symbol   currency   price  quantity\n",
      "0          0    NaN     NaN              KELP  SEASHELLS  2002.0         1\n",
      "1          0    NaN     NaN  RAINFOREST_RESIN  SEASHELLS  9996.0         1\n",
      "2          0    NaN     NaN  RAINFOREST_RESIN  SEASHELLS  9996.0         1\n",
      "3          0    NaN     NaN         SQUID_INK  SEASHELLS  2002.0         1\n",
      "4        100    NaN     NaN              KELP  SEASHELLS  2002.0         6\n"
     ]
    }
   ],
   "source": [
    "# 正确加载数据（注意分隔符是 `;`）\n",
    "prices_df_day_0 = pd.read_csv(\"/Users/jiayuzhao/Desktop/Competition/IMC trading/round-1-island-data-bottle/prices_round_1_day_0.csv\", delimiter=\";\")\n",
    "prices_df_day_1 = pd.read_csv(\"/Users/jiayuzhao/Desktop/Competition/IMC trading/round-1-island-data-bottle/prices_round_1_day_-1.csv\", delimiter=\";\")\n",
    "prices_df_day_2 = pd.read_csv(\"/Users/jiayuzhao/Desktop/Competition/IMC trading/round-1-island-data-bottle/prices_round_1_day_-2.csv\", delimiter=\";\")\n",
    "\n",
    "trades_df_day_0 = pd.read_csv(\"/Users/jiayuzhao/Desktop/Competition/IMC trading/round-1-island-data-bottle/trades_round_1_day_0.csv\", delimiter=\";\")\n",
    "trades_df_day_0 = pd.read_csv(\"/Users/jiayuzhao/Desktop/Competition/IMC trading/round-1-island-data-bottle/trades_round_1_day_0.csv\", delimiter=\";\")\n",
    "trades_df_day_0 = pd.read_csv(\"/Users/jiayuzhao/Desktop/Competition/IMC trading/round-1-island-data-bottle/trades_round_1_day_0.csv\", delimiter=\";\")\n",
    "\n",
    "# 展示前几行数据\n",
    "print(\"🔹 PRICES DATA:\")\n",
    "print(prices_df_day_0.head())\n",
    "print(prices_df_day_1.head())\n",
    "print(prices_df_day_2.head())\n",
    "\n",
    "print(\"\\n🔹 TRADES DATA:\")\n",
    "print(trades_df_day_0.head())\n",
    "print(trades_df_day_1.head())\n",
    "print(trades_df_day_2.head())\n"
   ]
  },
  {
   "cell_type": "code",
   "execution_count": 14,
   "metadata": {},
   "outputs": [],
   "source": [
    "# mid_price：= (best_bid + best_ask) / 2\n",
    "# 用 bid_price_1 和 ask_price_1 作为最优报价\n",
    "prices_df_day_0[\"mid_price\"] = (prices_df_day_0[\"bid_price_1\"] + prices_df_day_0[\"ask_price_1\"]) / 2\n",
    "prices_df_day_1[\"mid_price\"] = (prices_df_day_1[\"bid_price_1\"] + prices_df_day_1[\"ask_price_1\"]) / 2\n",
    "prices_df_day_2[\"mid_price\"] = (prices_df_day_2[\"bid_price_1\"] + prices_df_day_2[\"ask_price_1\"]) / 2"
   ]
  },
  {
   "cell_type": "code",
   "execution_count": 15,
   "metadata": {},
   "outputs": [
    {
     "name": "stdout",
     "output_type": "stream",
     "text": [
      "\n",
      "Missing values summary:\n",
      "day                     0\n",
      "timestamp               0\n",
      "product                 0\n",
      "bid_price_1             0\n",
      "bid_volume_1            0\n",
      "bid_price_2         18267\n",
      "bid_volume_2        18267\n",
      "bid_price_3         27969\n",
      "bid_volume_3        27969\n",
      "ask_price_1             0\n",
      "ask_volume_1            0\n",
      "ask_price_2         17482\n",
      "ask_volume_2        17482\n",
      "ask_price_3         27885\n",
      "ask_volume_3        27885\n",
      "mid_price               0\n",
      "profit_and_loss,        0\n",
      "dtype: int64\n",
      "day                    0\n",
      "timestamp              0\n",
      "product                0\n",
      "bid_price_1            0\n",
      "bid_volume_1           0\n",
      "bid_price_2        18301\n",
      "bid_volume_2       18301\n",
      "bid_price_3        27982\n",
      "bid_volume_3       27982\n",
      "ask_price_1            0\n",
      "ask_volume_1           0\n",
      "ask_price_2        17572\n",
      "ask_volume_2       17572\n",
      "ask_price_3        27893\n",
      "ask_volume_3       27893\n",
      "mid_price              0\n",
      "profit_and_loss        0\n",
      "dtype: int64\n",
      "day                    0\n",
      "timestamp              0\n",
      "product                0\n",
      "bid_price_1            0\n",
      "bid_volume_1           0\n",
      "bid_price_2        18210\n",
      "bid_volume_2       18210\n",
      "bid_price_3        27919\n",
      "bid_volume_3       27919\n",
      "ask_price_1            0\n",
      "ask_volume_1           0\n",
      "ask_price_2        17381\n",
      "ask_volume_2       17381\n",
      "ask_price_3        27807\n",
      "ask_volume_3       27807\n",
      "mid_price              0\n",
      "profit_and_loss        0\n",
      "dtype: int64\n"
     ]
    }
   ],
   "source": [
    "# 空值统计\n",
    "print(\"\\nMissing values summary:\")\n",
    "print(prices_df_day_0.isnull().sum())\n",
    "print(prices_df_day_1.isnull().sum())\n",
    "print(prices_df_day_2.isnull().sum())\n",
    "\n",
    "# 转换产品为分类变量\n",
    "prices_df_day_0[\"product\"] = prices_df_day_0[\"product\"].astype(\"category\")\n",
    "prices_df_day_1[\"product\"] = prices_df_day_1[\"product\"].astype(\"category\")\n",
    "prices_df_day_2[\"product\"] = prices_df_day_2[\"product\"].astype(\"category\")"
   ]
  },
  {
   "cell_type": "code",
   "execution_count": 17,
   "metadata": {},
   "outputs": [
    {
     "name": "stdout",
     "output_type": "stream",
     "text": [
      "\n",
      "📊 Squid Ink Mid-Price Preview:\n",
      "    timestamp  mid_price\n",
      "2           0     1969.5\n",
      "3         100     1970.0\n",
      "6         200     1967.5\n",
      "9         300     1966.5\n",
      "14        400     1967.0\n",
      "    timestamp  mid_price\n",
      "2           0     2028.5\n",
      "3         100     2026.5\n",
      "6         200    10000.0\n",
      "9         300     2004.5\n",
      "14        400     2026.5\n",
      "    timestamp  mid_price\n",
      "2           0     2000.0\n",
      "3         100     2000.0\n",
      "6         200     2000.5\n",
      "9         300    10000.0\n",
      "14        400     1998.0\n"
     ]
    }
   ],
   "source": [
    "# 保存为新 CSV 文件（可用于后续处理）\n",
    "prices_df_day_0.to_csv(\"processed_prices.csv\", index=False)\n",
    "prices_df_day_1.to_csv(\"processed_prices.csv\", index=False)\n",
    "prices_df_day_2.to_csv(\"processed_prices.csv\", index=False)\n",
    "\n",
    "trades_df_day_0.to_csv(\"processed_trades.csv\", index=False)\n",
    "trades_df_day_1.to_csv(\"processed_trades.csv\", index=False)\n",
    "trades_df_day_2.to_csv(\"processed_trades.csv\", index=False)\n",
    "\n",
    "# 示例：展示 Squid Ink 的 mid-price 前几条记录\n",
    "squid_df_day_0 = prices_df_day_0[prices_df_day_0[\"product\"] == \"SQUID_INK\"]\n",
    "squid_df_day_1 = prices_df_day_1[prices_df_day_0[\"product\"] == \"SQUID_INK\"]\n",
    "squid_df_day_2 = prices_df_day_2[prices_df_day_0[\"product\"] == \"SQUID_INK\"]\n",
    "\n",
    "print(\"\\n📊 Squid Ink Mid-Price Preview:\")\n",
    "\n",
    "print(squid_df_day_0[[\"timestamp\", \"mid_price\"]].head())\n",
    "print(squid_df_day_1[[\"timestamp\", \"mid_price\"]].head())\n",
    "print(squid_df_day_2[[\"timestamp\", \"mid_price\"]].head())"
   ]
  },
  {
   "cell_type": "markdown",
   "metadata": {},
   "source": [
    "均值回归"
   ]
  },
  {
   "cell_type": "code",
   "execution_count": 20,
   "metadata": {},
   "outputs": [],
   "source": [
    "# 添加一列 'day' 以便跟踪来源\n",
    "prices_df_day_0['day'] = 0\n",
    "prices_df_day_1['day'] = 1\n",
    "prices_df_day_2['day'] = 2\n",
    "\n",
    "# 合并为一个 DataFrame\n",
    "squid_prices = pd.concat([prices_df_day_0, prices_df_day_1, prices_df_day_2], ignore_index=True)"
   ]
  },
  {
   "cell_type": "code",
   "execution_count": 21,
   "metadata": {},
   "outputs": [],
   "source": [
    "# 滚动窗口策略\n",
    "window = 100\n",
    "squid_prices['rolling_mean'] = squid_prices['mid_price'].rolling(window).mean()\n",
    "squid_prices['rolling_std'] = squid_prices['mid_price'].rolling(window).std()\n",
    "squid_prices['zscore'] = (squid_prices['mid_price'] - squid_prices['rolling_mean']) / squid_prices['rolling_std']"
   ]
  },
  {
   "cell_type": "code",
   "execution_count": 22,
   "metadata": {},
   "outputs": [],
   "source": [
    "# 策略信号\n",
    "squid_prices['signal'] = 0\n",
    "squid_prices.loc[squid_prices['zscore'] > 2, 'signal'] = -1  # 卖出信号\n",
    "squid_prices.loc[squid_prices['zscore'] < -2, 'signal'] = 1   # 买入信号"
   ]
  },
  {
   "cell_type": "code",
   "execution_count": 27,
   "metadata": {},
   "outputs": [],
   "source": [
    "# 模拟价格变动对应收益（持仓 * 价格变动）\n",
    "squid_prices['returns'] = squid_prices['mid_price'].pct_change()\n",
    "squid_prices['position'] = squid_prices['signal'].shift(1).fillna(0)\n",
    "squid_prices['strategy_returns'] = squid_prices['position'] * squid_prices['returns']\n",
    "\n",
    "# 累计收益曲线\n",
    "squid_prices['cumulative_strategy'] = (1 + squid_prices['strategy_returns']).cumprod()"
   ]
  },
  {
   "cell_type": "markdown",
   "metadata": {},
   "source": [
    "可视化"
   ]
  },
  {
   "cell_type": "code",
   "execution_count": 28,
   "metadata": {},
   "outputs": [
    {
     "data": {
      "image/png": "[encoded data removed]",
      "text/plain": [
       "<Figure size 864x360 with 1 Axes>"
      ]
     },
     "metadata": {
      "needs_background": "light"
     },
     "output_type": "display_data"
    }
   ],
   "source": [
    "import matplotlib.pyplot as plt\n",
    "\n",
    "plt.figure(figsize=(12, 5))\n",
    "plt.plot(squid_prices[\"timestamp\"], squid_prices['cumulative_strategy'], label='Strategy', color='green')\n",
    "plt.plot(squid_prices[\"timestamp\"], (1 + squid_prices['returns']).cumprod(), label='Market', linestyle='--', color='gray')\n",
    "plt.title(\"Strategy Performance vs. Market (Squid Ink)\")\n",
    "plt.xlabel(\"Timestamp\")\n",
    "plt.ylabel(\"Cumulative Return\")\n",
    "plt.legend()\n",
    "plt.grid(True)\n",
    "plt.tight_layout()\n",
    "plt.show()"
   ]
  },
  {
   "cell_type": "code",
   "execution_count": 23,
   "metadata": {},
   "outputs": [
    {
     "data": {
      "text/plain": [
       "<Figure size 1008x576 with 0 Axes>"
      ]
     },
     "execution_count": 23,
     "metadata": {},
     "output_type": "execute_result"
    },
    {
     "data": {
      "text/plain": [
       "<Figure size 1008x576 with 0 Axes>"
      ]
     },
     "metadata": {},
     "output_type": "display_data"
    }
   ],
   "source": [
    "# 设置图形大小\n",
    "plt.figure(figsize=(14, 8))"
   ]
  },
  {
   "cell_type": "code",
   "execution_count": 24,
   "metadata": {},
   "outputs": [
    {
     "data": {
      "image/png": "[encoded data removed]",
      "text/plain": [
       "<Figure size 432x288 with 1 Axes>"
      ]
     },
     "metadata": {
      "needs_background": "light"
     },
     "output_type": "display_data"
    }
   ],
   "source": [
    "# 图 1：mid_price 与 rolling_mean\n",
    "plt.subplot(2, 1, 1)\n",
    "plt.plot(squid_prices['mid_price'], label='Mid Price', color='blue')\n",
    "plt.plot(squid_prices['rolling_mean'], label='Rolling Mean', color='orange')\n",
    "plt.title('Mid Price vs Rolling Mean')\n",
    "plt.legend()\n",
    "plt.grid(True)"
   ]
  },
  {
   "cell_type": "code",
   "execution_count": 25,
   "metadata": {},
   "outputs": [
    {
     "data": {
      "image/png": "[encoded data removed]",
      "text/plain": [
       "<Figure size 432x288 with 1 Axes>"
      ]
     },
     "metadata": {
      "needs_background": "light"
     },
     "output_type": "display_data"
    }
   ],
   "source": [
    "# 图 2：Z-score 和信号阈值\n",
    "plt.subplot(2, 1, 2)\n",
    "plt.plot(squid_prices['zscore'], label='Z-Score', color='green')\n",
    "plt.axhline(2, color='red', linestyle='--', label='Sell Threshold (+2)')\n",
    "plt.axhline(-2, color='purple', linestyle='--', label='Buy Threshold (-2)')\n",
    "plt.title('Z-Score Over Time')\n",
    "plt.legend()\n",
    "plt.grid(True)\n",
    "\n",
    "plt.tight_layout()\n",
    "plt.show()"
   ]
  },
  {
   "cell_type": "code",
   "execution_count": 26,
   "metadata": {},
   "outputs": [
    {
     "data": {
      "image/png": "[encoded data removed]",
      "text/plain": [
       "<Figure size 1008x432 with 1 Axes>"
      ]
     },
     "metadata": {
      "needs_background": "light"
     },
     "output_type": "display_data"
    }
   ],
   "source": [
    "buy_signals = squid_prices[squid_prices['signal'] == 1]\n",
    "sell_signals = squid_prices[squid_prices['signal'] == -1]\n",
    "\n",
    "plt.figure(figsize=(14, 6))\n",
    "plt.plot(squid_prices['mid_price'], label='Mid Price', color='blue')\n",
    "plt.scatter(buy_signals.index, buy_signals['mid_price'], marker='^', color='green', label='Buy Signal')\n",
    "plt.scatter(sell_signals.index, sell_signals['mid_price'], marker='v', color='red', label='Sell Signal')\n",
    "plt.title('Mid Price with Buy/Sell Signals')\n",
    "plt.legend()\n",
    "plt.grid(True)\n",
    "plt.show()"
   ]
  }
 ],
 "metadata": {
  "kernelspec": {
   "display_name": "Python 3",
   "language": "python",
   "name": "python3"
  },
  "language_info": {
   "codemirror_mode": {
    "name": "ipython",
    "version": 3
   },
   "file_extension": ".py",
   "mimetype": "text/x-python",
   "name": "python",
   "nbconvert_exporter": "python",
   "pygments_lexer": "ipython3",
   "version": "3.9.12"
  }
 },
 "nbformat": 4,
 "nbformat_minor": 2
}
