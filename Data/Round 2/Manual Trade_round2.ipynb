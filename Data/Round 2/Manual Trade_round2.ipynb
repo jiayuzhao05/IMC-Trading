{
 "cells": [
  {
   "cell_type": "markdown",
   "metadata": {},
   "source": [
    "## Manual Trade for Round2"
   ]
  },
  {
   "cell_type": "code",
   "execution_count": null,
   "metadata": {
    "vscode": {
     "languageId": "plaintext"
    }
   },
   "outputs": [],
   "source": [
    "import pandas as pd\n",
    "from itertools import combinations"
   ]
  },
  {
   "cell_type": "code",
   "execution_count": null,
   "metadata": {
    "vscode": {
     "languageId": "plaintext"
    }
   },
   "outputs": [],
   "source": [
    "arr = np.array([\n",
    "  [[10,1], [80,6], [37,3], [17,1],[31,2], [90,10], [50,4], [20,2], [73,4], [89,8]]\n",
    "])"
   ]
  },
  {
   "cell_type": "markdown",
   "metadata": {},
   "source": [
    "Threshold function"
   ]
  },
  {
   "cell_type": "code",
   "execution_count": null,
   "metadata": {
    "vscode": {
     "languageId": "plaintext"
    }
   },
   "outputs": [],
   "source": [
    "thresh[i,j] = (3*M - 10*H) / 1000 \n",
    "# second adventure"
   ]
  },
  {
   "cell_type": "code",
   "execution_count": null,
   "metadata": {
    "vscode": {
     "languageId": "plaintext"
    }
   },
   "outputs": [],
   "source": [
    "thresh[i,j] = (M - 10*H) / 1000\n",
    "# third adventure"
   ]
  },
  {
   "cell_type": "markdown",
   "metadata": {},
   "source": [
    "Maximin strategy"
   ]
  },
  {
   "cell_type": "code",
   "execution_count": null,
   "metadata": {
    "vscode": {
     "languageId": "plaintext"
    }
   },
   "outputs": [],
   "source": [
    "\\max_{(M,H)} \\min_{p \\in [0,1]} \\frac{7500M}{H + 100p}"
   ]
  },
  {
   "cell_type": "code",
   "execution_count": null,
   "metadata": {
    "vscode": {
     "languageId": "plaintext"
    }
   },
   "outputs": [],
   "source": [
    "# 候选点列表：(Multiplier, Hunters)\n",
    "targets = [\n",
    "    (31, 2), (80, 6), (90, 10),\n",
    "    (10, 1), (17, 1), (73, 4), (20, 2)\n",
    "]\n",
    "\n",
    "# 最坏情况下（p = 1）每个点的保守收益\n",
    "worst_case_profits = []\n",
    "for mult, hunt in targets:\n",
    "    profit = 7500 * mult / (hunt + 100)  # p = 1\n",
    "    worst_case_profits.append(((mult, hunt), profit))\n",
    "\n",
    "# 选出最稳妥的一点\n",
    "worst_case_profits.sort(key=lambda x: x[1], reverse=True)\n",
    "\n",
    "best_single_point, best_profit = worst_case_profits[0]\n",
    "print(f\"最优点（只探一次，保守策略）：Multiplier = {best_single_point[0]}, Hunters = {best_single_point[1]}\")\n",
    "print(f\"最差情况下的最小收益：{best_profit:.2f} SeaShells\")"
   ]
  },
  {
   "cell_type": "markdown",
   "metadata": {},
   "source": [
    "# 线性模型 M/log(H+1)"
   ]
  },
  {
   "cell_type": "code",
   "execution_count": null,
   "metadata": {
    "vscode": {
     "languageId": "plaintext"
    }
   },
   "outputs": [],
   "source": [
    "\n",
    "def find_best_two_expeditions(map_df, threshold=25000, share_p=1.0):\n",
    "    def conservative_profit(M, H, p=1.0):\n",
    "        return 7500 * M / (H + 100 * p)\n",
    "\n",
    "    best_pair = None\n",
    "    max_total_profit = float('-inf')\n",
    "    pair_profits = []\n",
    "\n",
    "    for (i1, row1), (i2, row2) in combinations(map_df.iterrows(), 2):\n",
    "        M1, H1 = row1[\"Multiplier\"], row1[\"Hunters\"]\n",
    "        M2, H2 = row2[\"Multiplier\"], row2[\"Hunters\"]\n",
    "\n",
    "        profit1 = conservative_profit(M1, H1, p=share_p)\n",
    "        profit2 = conservative_profit(M2, H2, p=share_p)\n",
    "        total_profit = profit1 + profit2 - threshold\n",
    "\n",
    "        pair_profits.append(((M1, H1), (M2, H2), total_profit))\n",
    "\n",
    "        if total_profit > max_total_profit:\n",
    "            max_total_profit = total_profit\n",
    "            best_pair = ((M1, H1), (M2, H2))\n",
    "\n",
    "    return best_pair, max_total_profit, pair_profits\n"
   ]
  },
  {
   "cell_type": "code",
   "execution_count": null,
   "metadata": {
    "vscode": {
     "languageId": "plaintext"
    }
   },
   "outputs": [],
   "source": [
    "# 模拟地图上的箱子\n",
    "map_data = pd.DataFrame({\n",
    "    \"Multiplier\": [10, 80, 37, 17, 31, 90, 50, 20, 73, 89],\n",
    "    \"Hunters\":    [1, 6, 3, 1, 2, 10, 4, 2, 4, 8]\n",
    "})\n",
    "\n",
    "# 保守收益计算（p=1）\n",
    "def calculate_profits(data, p=1.0):\n",
    "    data = data.copy()\n",
    "    data[\"Conservative Profit (p=1)\"] = 7500 * data[\"Multiplier\"] / (data[\"Hunters\"] + 100 * p)\n",
    "    return data.sort_values(by=\"Conservative Profit (p=1)\", ascending=False).reset_index(drop=True)\n",
    "\n",
    "profit_table = calculate_profits(map_data)\n",
    "\n",
    "print(profit_table[[\"Multiplier\", \"Hunters\", \"Conservative Profit (p=1)\"]])"
   ]
  }
 ],
 "metadata": {
  "language_info": {
   "name": "python"
  }
 },
 "nbformat": 4,
 "nbformat_minor": 2
}
