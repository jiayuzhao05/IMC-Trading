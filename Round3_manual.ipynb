{
 "cells": [
  {
   "cell_type": "code",
   "execution_count": null,
   "metadata": {
    "vscode": {
     "languageId": "plaintext"
    }
   },
   "outputs": [],
   "source": [
    "import numpy as np\n",
    "\n",
    "# 假设其他 trader 报价服从均值290、标准差10的正态分布\n",
    "sample_bids = np.random.normal(loc=290, scale=10, size=1000)\n",
    "\n",
    "# 过滤非法出价（不能超过 resale 价格）\n",
    "sample_bids = sample_bids[(sample_bids > 200) & (sample_bids < 320)]\n",
    "\n",
    "# 估计 average second bid\n",
    "avg_bid_estimate = np.mean(sample_bids)\n",
    "print(f\"Estimated average second bid: {avg_bid_estimate:.2f}\")"
   ]
  },
  {
   "cell_type": "code",
   "execution_count": null,
   "metadata": {
    "vscode": {
     "languageId": "plaintext"
    }
   },
   "outputs": [],
   "source": [
    "# sensitivity test\n",
    "for p_avg in np.arange(275, 300, 1):\n",
    "    bids, profit = solve(p_avg)\n",
    "    print(f\"p_avg = {p_avg:.1f} → Bid = {bids}, Profit = {profit:.1f}\")"
   ]
  },
  {
   "cell_type": "code",
   "execution_count": null,
   "metadata": {
    "vscode": {
     "languageId": "plaintext"
    }
   },
   "outputs": [],
   "source": [
    "solve(289.93)"
   ]
  }
 ],
 "metadata": {
  "language_info": {
   "name": "python"
  }
 },
 "nbformat": 4,
 "nbformat_minor": 2
}
